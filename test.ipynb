{
 "cells": [
  {
   "cell_type": "code",
   "execution_count": null,
   "metadata": {},
   "outputs": [],
   "source": [
    "import os\n",
    "import firebase_admin\n",
    "from firebase_admin import credentials, firestore\n",
    "from dotenv import load_dotenv"
   ]
  },
  {
   "cell_type": "code",
   "execution_count": 20,
   "metadata": {},
   "outputs": [
    {
     "name": "stdout",
     "output_type": "stream",
     "text": [
      "Firebase Key Path: .streamlit/tournalytics-firebase-adminsdk-dbcy8-e1435aaaa6.json\n",
      "Firestore Project ID: tournalytics\n",
      "Firestore Database URL: https://firestore.googleapis.com/v1/projects/tournalytics/databases/(default)/documents\n"
     ]
    }
   ],
   "source": [
    "from dotenv import load_dotenv\n",
    "import os\n",
    "\n",
    "# Load environment variables\n",
    "load_dotenv()\n",
    "\n",
    "# Access variables\n",
    "firebase_key_path = os.getenv(\"GOOGLE_APPLICATION_CREDENTIALS\")\n",
    "project_id = os.getenv(\"FIRESTORE_PROJECT_ID\")\n",
    "database_url = os.getenv(\"FIRESTORE_DATABASE_URL\")\n",
    "\n",
    "print(\"Firebase Key Path:\", firebase_key_path)\n",
    "print(\"Firestore Project ID:\", project_id)\n",
    "print(\"Firestore Database URL:\", database_url)\n"
   ]
  },
  {
   "cell_type": "code",
   "execution_count": 21,
   "metadata": {},
   "outputs": [
    {
     "name": "stdout",
     "output_type": "stream",
     "text": [
      "Firebase initialized successfully!\n"
     ]
    }
   ],
   "source": [
    "import firebase_admin\n",
    "from firebase_admin import credentials, firestore\n",
    "\n",
    "# Initialize Firebase Admin SDK\n",
    "try:\n",
    "    if not firebase_admin._apps:\n",
    "        cred = credentials.Certificate(firebase_key_path)\n",
    "        firebase_admin.initialize_app(cred, {\"projectId\": project_id})\n",
    "    print(\"Firebase initialized successfully!\")\n",
    "except Exception as e:\n",
    "    print(\"Error initializing Firebase:\", e)\n"
   ]
  },
  {
   "cell_type": "code",
   "execution_count": 22,
   "metadata": {},
   "outputs": [
    {
     "name": "stdout",
     "output_type": "stream",
     "text": [
      "Users collection documents:\n",
      "dmf95 {'created_at': DatetimeWithNanoseconds(2025, 1, 6, 15, 48, 46, 161429, tzinfo=datetime.timezone.utc), 'email': 'domenicfayad@gmail.com', 'league_id': None, 'username': 'dmf95', 'role': 'super_admin'}\n"
     ]
    }
   ],
   "source": [
    "# Test Firestore connection\n",
    "try:\n",
    "    db = firestore.client()\n",
    "    users_ref = db.collection(\"users\")\n",
    "    docs = users_ref.stream()\n",
    "    \n",
    "    print(\"Users collection documents:\")\n",
    "    for doc in docs:\n",
    "        print(doc.id, doc.to_dict())\n",
    "except Exception as e:\n",
    "    print(\"Error connecting to Firestore:\", e)\n"
   ]
  },
  {
   "cell_type": "code",
   "execution_count": 26,
   "metadata": {},
   "outputs": [
    {
     "name": "stdout",
     "output_type": "stream",
     "text": [
      "User metadata for 'dmf95' saved in Firestore.\n"
     ]
    }
   ],
   "source": [
    "from firebase_admin import firestore\n",
    "from datetime import datetime\n",
    "\n",
    "# Initialize Firestore client\n",
    "db = firestore.client()\n",
    "\n",
    "# Define metadata for the user\n",
    "email = \"domenicfayad@gmail.com\"\n",
    "username = \"dmf95\"  # Extracted or defined username\n",
    "user_metadata = {\n",
    "    \"username\": username,\n",
    "    \"email\": email,\n",
    "    \"role\": \"super_admin\",  # Replace with appropriate role ('user', 'admin', 'super_admin')\n",
    "    \"league_id\": None,  # Add associated league if applicable\n",
    "    \"created_at\": datetime.now(),\n",
    "}\n",
    "\n",
    "# Save the metadata in the Firestore `users` collection\n",
    "try:\n",
    "    db.collection(\"users\").document(username).set(user_metadata)\n",
    "    print(f\"User metadata for '{username}' saved in Firestore.\")\n",
    "except Exception as e:\n",
    "    print(\"Error saving user metadata:\", e)\n"
   ]
  },
  {
   "cell_type": "code",
   "execution_count": null,
   "metadata": {},
   "outputs": [],
   "source": [
    "def create_user_metadata(username, password, email, role=\"user\", league_id=None):\n",
    "    \"\"\"\n",
    "    Create a new user in Firestore with metadata.\n",
    "    \"\"\"\n",
    "    try:\n",
    "        # Hash the password\n",
    "        hashed_password = bcrypt.hashpw(password.encode(\"utf-8\"), bcrypt.gensalt()).decode(\"utf-8\")\n",
    "\n",
    "        # Create user metadata\n",
    "        user_doc = {\n",
    "            \"username\": username,\n",
    "            \"hashed_password\": hashed_password,\n",
    "            \"email\": email,\n",
    "            \"role\": role,\n",
    "            \"league_id\": league_id,\n",
    "            \"created_at\": firestore.SERVER_TIMESTAMP,\n",
    "        }\n",
    "\n",
    "        # Add user to Firestore\n",
    "        db.collection(\"users\").document(username).set(user_doc)\n",
    "\n",
    "        # Create user in Firebase Auth for email authentication\n",
    "        auth.create_user(email=email, display_name=username)\n",
    "\n",
    "        print(f\"User {username} created successfully.\")\n",
    "        return True\n",
    "    except Exception as e:\n",
    "        print(f\"Error creating user metadata: {e}\")\n",
    "        return False\n",
    "\n",
    "# Test creating a new user\n",
    "create_user_metadata(\n",
    "    username=\"dmf95\",\n",
    "    password=\"password123\",\n",
    "    email=\"testuser@example.com\",\n",
    "    role=\"user\"\n",
    ")"
   ]
  },
  {
   "cell_type": "code",
   "execution_count": 10,
   "metadata": {},
   "outputs": [],
   "source": [
    "# Initialize Firebase Admin SDK\n",
    "if not firebase_admin._apps:\n",
    "    cred = credentials.Certificate(\"../.streamlit/tournalytics-firebase-adminsdk-dbcy8-e1435aaaa6.json\")\n",
    "    firebase_admin.initialize_app(cred)\n",
    "\n",
    "# Initialize Firestore client\n",
    "db = firestore.client()"
   ]
  },
  {
   "cell_type": "code",
   "execution_count": 11,
   "metadata": {},
   "outputs": [],
   "source": [
    "import bcrypt\n",
    "from firebase_admin import firestore\n",
    "from datetime import datetime\n",
    "\n",
    "# Initialize Firestore client\n",
    "db = firestore.client()\n",
    "\n",
    "def hash_password(plain_text_password):\n",
    "    \"\"\"\n",
    "    Hash a plain-text password using bcrypt.\n",
    "    \"\"\"\n",
    "    salt = bcrypt.gensalt()\n",
    "    hashed_password = bcrypt.hashpw(plain_text_password.encode(\"utf-8\"), salt)\n",
    "    return hashed_password\n",
    "\n",
    "def verify_password(plain_text_password, hashed_password):\n",
    "    \"\"\"\n",
    "    Verify a plain-text password against a bcrypt hash.\n",
    "    \"\"\"\n",
    "    return bcrypt.checkpw(plain_text_password.encode(\"utf-8\"), hashed_password)\n",
    "\n",
    "def create_user(username, password, role=\"user\", league_id=None):\n",
    "    \"\"\"\n",
    "    Create a new user in Firestore.\n",
    "    \"\"\"\n",
    "    try:\n",
    "        # Hash the password\n",
    "        hashed_password = hash_password(password)\n",
    "        user_doc = {\n",
    "            \"username\": username,\n",
    "            \"hashed_password\": hashed_password.decode(\"utf-8\"),  # Store as string\n",
    "            \"role\": role,\n",
    "            \"league_id\": league_id,\n",
    "            \"created_at\": datetime.now(),\n",
    "        }\n",
    "        db.collection(\"users\").document(username).set(user_doc)\n",
    "        return True\n",
    "    except Exception as e:\n",
    "        print(f\"Error creating user: {e}\")\n",
    "        return False\n",
    "\n",
    "def authenticate_user(username, password):\n",
    "    \"\"\"\n",
    "    Authenticate a user against Firestore data.\n",
    "    \"\"\"\n",
    "    try:\n",
    "        user_ref = db.collection(\"users\").document(username).get()\n",
    "        if not user_ref.exists:\n",
    "            print(\"User not found.\")\n",
    "            return None\n",
    "        \n",
    "        user_data = user_ref.to_dict()\n",
    "        hashed_password = user_data.get(\"hashed_password\")\n",
    "        \n",
    "        # Verify the password\n",
    "        if verify_password(password, hashed_password.encode(\"utf-8\")):\n",
    "            return {\"username\": username, \"role\": user_data.get(\"role\")}\n",
    "        else:\n",
    "            print(\"Invalid password.\")\n",
    "            return None\n",
    "    except Exception as e:\n",
    "        print(f\"Error authenticating user: {e}\")\n",
    "        return None\n"
   ]
  }
 ],
 "metadata": {
  "kernelspec": {
   "display_name": "tournalytics_env",
   "language": "python",
   "name": "python3"
  },
  "language_info": {
   "codemirror_mode": {
    "name": "ipython",
    "version": 3
   },
   "file_extension": ".py",
   "mimetype": "text/x-python",
   "name": "python",
   "nbconvert_exporter": "python",
   "pygments_lexer": "ipython3",
   "version": "3.9.21"
  }
 },
 "nbformat": 4,
 "nbformat_minor": 2
}
