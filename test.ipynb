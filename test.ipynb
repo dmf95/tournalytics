{
 "cells": [
  {
   "cell_type": "code",
   "execution_count": 40,
   "metadata": {},
   "outputs": [],
   "source": [
    "import os\n",
    "from firebase_admin import auth, credentials, firestore, initialize_app\n",
    "from dotenv import load_dotenv\n",
    "import re"
   ]
  },
  {
   "cell_type": "code",
   "execution_count": 30,
   "metadata": {},
   "outputs": [
    {
     "name": "stdout",
     "output_type": "stream",
     "text": [
      "Firebase Key Path: .streamlit/tournalytics-firebase-adminsdk-dbcy8-e1435aaaa6.json\n",
      "Firestore Project ID: tournalytics\n",
      "Firestore Database URL: https://firestore.googleapis.com/v1/projects/tournalytics/databases/(default)/documents\n"
     ]
    }
   ],
   "source": [
    "from dotenv import load_dotenv\n",
    "import os\n",
    "\n",
    "# Load environment variables\n",
    "load_dotenv()\n",
    "\n",
    "# Access variables\n",
    "firebase_key_path = os.getenv(\"GOOGLE_APPLICATION_CREDENTIALS\")\n",
    "project_id = os.getenv(\"FIRESTORE_PROJECT_ID\")\n",
    "database_url = os.getenv(\"FIRESTORE_DATABASE_URL\")\n",
    "\n",
    "print(\"Firebase Key Path:\", firebase_key_path)\n",
    "print(\"Firestore Project ID:\", project_id)\n",
    "print(\"Firestore Database URL:\", database_url)\n"
   ]
  },
  {
   "cell_type": "code",
   "execution_count": 31,
   "metadata": {},
   "outputs": [
    {
     "name": "stdout",
     "output_type": "stream",
     "text": [
      "Firebase initialized successfully!\n"
     ]
    }
   ],
   "source": [
    "# Initialize Firebase Admin SDK\n",
    "try:\n",
    "    if not firebase_admin._apps:\n",
    "        cred = credentials.Certificate(firebase_key_path)\n",
    "        firebase_admin.initialize_app(cred, {\"projectId\": project_id})\n",
    "    print(\"Firebase initialized successfully!\")\n",
    "except Exception as e:\n",
    "    print(\"Error initializing Firebase:\", e)\n"
   ]
  },
  {
   "cell_type": "code",
   "execution_count": 32,
   "metadata": {},
   "outputs": [
    {
     "name": "stdout",
     "output_type": "stream",
     "text": [
      "Users collection documents:\n",
      "dmf95 {'created_at': DatetimeWithNanoseconds(2025, 1, 6, 15, 55, 10, 319919, tzinfo=datetime.timezone.utc), 'email': 'domenicfayad@gmail.com', 'league_id': None, 'username': 'dmf95', 'role': 'super_admin'}\n"
     ]
    }
   ],
   "source": [
    "# Test Firestore connection\n",
    "try:\n",
    "    db = firestore.client()\n",
    "    users_ref = db.collection(\"users\")\n",
    "    docs = users_ref.stream()\n",
    "    \n",
    "    print(\"Users collection documents:\")\n",
    "    for doc in docs:\n",
    "        print(doc.id, doc.to_dict())\n",
    "except Exception as e:\n",
    "    print(\"Error connecting to Firestore:\", e)"
   ]
  },
  {
   "cell_type": "code",
   "execution_count": 26,
   "metadata": {},
   "outputs": [
    {
     "name": "stdout",
     "output_type": "stream",
     "text": [
      "User metadata for 'dmf95' saved in Firestore.\n"
     ]
    }
   ],
   "source": [
    "from firebase_admin import firestore\n",
    "from datetime import datetime\n",
    "\n",
    "# Initialize Firestore client\n",
    "db = firestore.client()\n",
    "\n",
    "# Define metadata for the user\n",
    "email = \"domenicfayad@gmail.com\"\n",
    "username = \"dmf95\"  # Extracted or defined username\n",
    "user_metadata = {\n",
    "    \"username\": username,\n",
    "    \"email\": email,\n",
    "    \"role\": \"super_admin\",  # Replace with appropriate role ('user', 'admin', 'super_admin')\n",
    "    \"league_id\": None,  # Add associated league if applicable\n",
    "    \"created_at\": datetime.now(),\n",
    "}\n",
    "\n",
    "# Save the metadata in the Firestore `users` collection\n",
    "try:\n",
    "    db.collection(\"users\").document(username).set(user_metadata)\n",
    "    print(f\"User metadata for '{username}' saved in Firestore.\")\n",
    "except Exception as e:\n",
    "    print(\"Error saving user metadata:\", e)\n"
   ]
  },
  {
   "cell_type": "code",
   "execution_count": 45,
   "metadata": {},
   "outputs": [
    {
     "name": "stdout",
     "output_type": "stream",
     "text": [
      "Error creating user metadata: The user with the provided email already exists (EMAIL_EXISTS).\n"
     ]
    },
    {
     "data": {
      "text/plain": [
       "False"
      ]
     },
     "execution_count": 45,
     "metadata": {},
     "output_type": "execute_result"
    }
   ],
   "source": [
    "def create_user_metadata(email, password, username, role=\"user\", league_id=None):\n",
    "    \"\"\"\n",
    "    Create a new user in Firebase Authentication and store additional metadata in Firestore.\n",
    "    \"\"\"\n",
    "    try:\n",
    "        # Create user in Firebase Authentication\n",
    "        user_record = auth.create_user(email=email, password=password, display_name=username)\n",
    "\n",
    "        # Store additional metadata in Firestore\n",
    "        user_doc = {\n",
    "            \"uid\": user_record.uid,  # Link Firestore metadata to Firebase Auth UID\n",
    "            \"username\": username,\n",
    "            \"email\": email,\n",
    "            \"role\": role,\n",
    "            \"league_id\": league_id,\n",
    "            \"created_at\": firestore.SERVER_TIMESTAMP,\n",
    "        }\n",
    "        db.collection(\"users\").document(user_record.uid).set(user_doc)\n",
    "\n",
    "        print(f\"User {username} created successfully.\")\n",
    "        return True\n",
    "    except Exception as e:\n",
    "        print(f\"Error creating user metadata: {e}\")\n",
    "        return False\n",
    "\n",
    "# Test creating a new user\n",
    "create_user_metadata(\n",
    "    email=\"domenicfayad@gmail.com\",\n",
    "    password=\"elephant\",\n",
    "    username=\"dmf95\",\n",
    "    role=\"super_admin\"\n",
    ")\n"
   ]
  },
  {
   "cell_type": "code",
   "execution_count": 49,
   "metadata": {},
   "outputs": [
    {
     "name": "stdout",
     "output_type": "stream",
     "text": [
      "{'username': 'dmf95', 'role': 'super_admin', 'email': 'domenicfayad@gmail.com', 'league_id': None}\n"
     ]
    }
   ],
   "source": [
    "def authenticate_user(identifier, password=None):\n",
    "    \"\"\"\n",
    "    Authenticate a user by either email or username.\n",
    "\n",
    "    Password verification is handled via Firebase Authentication.\n",
    "    \"\"\"\n",
    "    try:\n",
    "        # Determine if the identifier is an email\n",
    "        is_email = re.match(r\"[^@]+@[^@]+\\.[^@]+\", identifier)\n",
    "\n",
    "        if is_email:\n",
    "            # Authenticate by email\n",
    "            firebase_user = auth.get_user_by_email(identifier)\n",
    "            uid = firebase_user.uid\n",
    "        else:\n",
    "            # Authenticate by username\n",
    "            user_ref = db.collection(\"users\").where(\"username\", \"==\", identifier).limit(1).get()\n",
    "            if not user_ref:\n",
    "                print(\"Username not found in Firestore.\")\n",
    "                return None\n",
    "            user_data = user_ref[0].to_dict()\n",
    "            uid = user_ref[0].id  # Firestore document ID corresponds to UID\n",
    "            identifier = user_data.get(\"email\")  # Retrieve the associated email for Firebase Authentication\n",
    "            \n",
    "            # Fetch Firebase user by email\n",
    "            try:\n",
    "                firebase_user = auth.get_user_by_email(identifier)\n",
    "            except firebase_admin.auth.UserNotFoundError:\n",
    "                print(\"Email associated with username not found in Firebase Authentication.\")\n",
    "                return None\n",
    "\n",
    "        # Verify the password using Firebase Authentication\n",
    "        # Password verification happens on the client-side or via a token exchange in Firebase SDK.\n",
    "        if not firebase_user:\n",
    "            print(\"Firebase Authentication failed.\")\n",
    "            return None\n",
    "\n",
    "        # Fetch user metadata from Firestore\n",
    "        user_metadata = db.collection(\"users\").document(uid).get().to_dict()\n",
    "        if not user_metadata:\n",
    "            print(\"User metadata not found in Firestore.\")\n",
    "            return None\n",
    "\n",
    "        # Return user metadata\n",
    "        return {\n",
    "            \"username\": user_metadata.get(\"username\"),\n",
    "            \"role\": user_metadata.get(\"role\"),\n",
    "            \"email\": user_metadata.get(\"email\"),\n",
    "            \"league_id\": user_metadata.get(\"league_id\"),\n",
    "        }\n",
    "    except Exception as e:\n",
    "        print(f\"Error authenticating user: {e}\")\n",
    "        return None\n",
    "\n",
    "\n",
    "# Test authenticating a user\n",
    "authenticated_user = authenticate_user(identifier=\"domenicfayad@gmail.com\", password=\"elephant\")\n",
    "print(authenticated_user)\n"
   ]
  },
  {
   "cell_type": "code",
   "execution_count": 61,
   "metadata": {},
   "outputs": [],
   "source": [
    "import json\n",
    "\n",
    "# Firestore client\n",
    "db = firestore.client()\n",
    "\n",
    "# Load dictionary from file\n",
    "with open(\"assets/tournament_ba6b4c4e_050120251954.json\", \"r\") as f:\n",
    "    tournament_data = json.load(f)\n",
    "\n",
    "# Specify Firestore path\n",
    "doc_path = f\"tournaments/{tournament_data}\"\n",
    "\n",
    "# Upload to Firestore\n",
    "#db.document(doc_path).set(tournament_data)\n",
    "#print(f\"Tournament data uploaded to Firestore at {doc_path}\")\n"
   ]
  },
  {
   "cell_type": "code",
   "execution_count": 63,
   "metadata": {},
   "outputs": [],
   "source": [
    "import json\n",
    "from datetime import datetime\n",
    "\n",
    "def save_tournament_to_file(tournament_data):\n",
    "    \"\"\"\n",
    "    Combine dictionaries and save to a JSON file with a unique filename.\n",
    "    \n",
    "    :param tournament_data: Combined dict\n",
    "    :return: The generated filename.\n",
    "    \"\"\"\n",
    "    # Ensure tournament_id exists in metadata\n",
    "    tournament_id = tournament_data['metadata'].get(\"tournament_id\")\n",
    "    if not tournament_id:\n",
    "        raise ValueError(\"The 'tournament_id' must be present in the metadata.\")\n",
    "\n",
    "    # Generate a unique filename using tournament_id and current timestamp\n",
    "    timestamp = datetime.now().strftime(\"%d%m%Y%H%M\")\n",
    "    filename = f\"tournament_{tournament_id}_{timestamp}.json\"\n",
    "\n",
    "    # Save to file\n",
    "    try:\n",
    "        with open(filename, \"w\") as f:\n",
    "            json.dump(tournament_data, f, indent=4)\n",
    "        print(f\"Tournament data successfully saved to {filename}\")\n",
    "    except Exception as e:\n",
    "        print(f\"Error saving tournament data: {e}\")\n",
    "        raise\n",
    "\n",
    "    return filename\n"
   ]
  },
  {
   "cell_type": "code",
   "execution_count": 62,
   "metadata": {},
   "outputs": [
    {
     "data": {
      "text/plain": [
       "{'tournament_id': 'ba6b4c4e',\n",
       " 'tournament_name': '2025 Cam Brock Invitational',\n",
       " 'event_date': '2025-01-01',\n",
       " 'tournament_type': 'Round Robin',\n",
       " 'num_players': 6,\n",
       " 'num_consoles': 2,\n",
       " 'half_duration': 5,\n",
       " 'selected_players': ['Domenic Fayad',\n",
       "  'Cameron Brock',\n",
       "  'Thomas Tassone',\n",
       "  'Michael Hanuman',\n",
       "  'Luigi Polisi',\n",
       "  'Aria Sarhangpour'],\n",
       " 'team_selection': {'Domenic Fayad': 'Manchester United',\n",
       "  'Cameron Brock': 'Liverpool',\n",
       "  'Thomas Tassone': 'Chelsea',\n",
       "  'Michael Hanuman': 'Manchester City',\n",
       "  'Luigi Polisi': 'Real Madrid',\n",
       "  'Aria Sarhangpour': 'Barcelona'}}"
      ]
     },
     "execution_count": 62,
     "metadata": {},
     "output_type": "execute_result"
    }
   ],
   "source": [
    "tournament_data['metadata']"
   ]
  }
 ],
 "metadata": {
  "kernelspec": {
   "display_name": "tournalytics_env",
   "language": "python",
   "name": "python3"
  },
  "language_info": {
   "codemirror_mode": {
    "name": "ipython",
    "version": 3
   },
   "file_extension": ".py",
   "mimetype": "text/x-python",
   "name": "python",
   "nbconvert_exporter": "python",
   "pygments_lexer": "ipython3",
   "version": "3.9.21"
  }
 },
 "nbformat": 4,
 "nbformat_minor": 2
}
